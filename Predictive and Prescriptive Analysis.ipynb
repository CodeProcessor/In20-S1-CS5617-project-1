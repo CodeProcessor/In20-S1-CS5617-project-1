{
 "cells": [
  {
   "cell_type": "markdown",
   "metadata": {},
   "source": [
    "## This Notebook covers predictive data analysis part\n",
    "\n",
    "Predictive: What is likely to happen?\n"
   ]
  },
  {
   "cell_type": "code",
   "execution_count": 1,
   "metadata": {},
   "outputs": [
    {
     "name": "stderr",
     "output_type": "stream",
     "text": [
      "/home/dulanj/Environments/py376/lib/python3.7/site-packages/sklearn/externals/six.py:31: FutureWarning: The module is deprecated in version 0.21 and will be removed in version 0.23 since we've dropped support for Python 2.7. Please rely on the official version of six (https://pypi.org/project/six/).\n",
      "  \"(https://pypi.org/project/six/).\", FutureWarning)\n",
      "Using TensorFlow backend.\n",
      "/home/dulanj/Environments/py376/lib/python3.7/site-packages/tensorflow/python/framework/dtypes.py:526: FutureWarning: Passing (type, 1) or '1type' as a synonym of type is deprecated; in a future version of numpy, it will be understood as (type, (1,)) / '(1,)type'.\n",
      "  _np_qint8 = np.dtype([(\"qint8\", np.int8, 1)])\n",
      "/home/dulanj/Environments/py376/lib/python3.7/site-packages/tensorflow/python/framework/dtypes.py:527: FutureWarning: Passing (type, 1) or '1type' as a synonym of type is deprecated; in a future version of numpy, it will be understood as (type, (1,)) / '(1,)type'.\n",
      "  _np_quint8 = np.dtype([(\"quint8\", np.uint8, 1)])\n",
      "/home/dulanj/Environments/py376/lib/python3.7/site-packages/tensorflow/python/framework/dtypes.py:528: FutureWarning: Passing (type, 1) or '1type' as a synonym of type is deprecated; in a future version of numpy, it will be understood as (type, (1,)) / '(1,)type'.\n",
      "  _np_qint16 = np.dtype([(\"qint16\", np.int16, 1)])\n",
      "/home/dulanj/Environments/py376/lib/python3.7/site-packages/tensorflow/python/framework/dtypes.py:529: FutureWarning: Passing (type, 1) or '1type' as a synonym of type is deprecated; in a future version of numpy, it will be understood as (type, (1,)) / '(1,)type'.\n",
      "  _np_quint16 = np.dtype([(\"quint16\", np.uint16, 1)])\n",
      "/home/dulanj/Environments/py376/lib/python3.7/site-packages/tensorflow/python/framework/dtypes.py:530: FutureWarning: Passing (type, 1) or '1type' as a synonym of type is deprecated; in a future version of numpy, it will be understood as (type, (1,)) / '(1,)type'.\n",
      "  _np_qint32 = np.dtype([(\"qint32\", np.int32, 1)])\n",
      "/home/dulanj/Environments/py376/lib/python3.7/site-packages/tensorflow/python/framework/dtypes.py:535: FutureWarning: Passing (type, 1) or '1type' as a synonym of type is deprecated; in a future version of numpy, it will be understood as (type, (1,)) / '(1,)type'.\n",
      "  np_resource = np.dtype([(\"resource\", np.ubyte, 1)])\n"
     ]
    }
   ],
   "source": [
    "import pandas as pd\n",
    "import seaborn as sns\n",
    "import numpy as np\n",
    "from sklearn.preprocessing import StandardScaler\n",
    "from sklearn.model_selection import train_test_split\n",
    "from sklearn.tree import DecisionTreeRegressor\n",
    "from sklearn.metrics import r2_score\n",
    "\n",
    "import matplotlib.pyplot as plt\n",
    "import pydotplus\n",
    "import matplotlib.image as mpimg\n",
    "import io\n",
    "\n",
    "from sklearn.linear_model import LinearRegression\n",
    "from sklearn.model_selection import RandomizedSearchCV\n",
    "from pprint import pprint\n",
    "\n",
    "from sklearn.externals.six import StringIO\n",
    "from sklearn.tree import export_graphviz\n",
    "\n",
    "from sklearn.svm import SVR\n",
    "from sklearn.ensemble import RandomForestRegressor\n",
    "\n",
    "from keras.models import Sequential\n",
    "from keras.layers import Dense\n"
   ]
  },
  {
   "cell_type": "markdown",
   "metadata": {},
   "source": [
    "## Load data from excel file"
   ]
  },
  {
   "cell_type": "code",
   "execution_count": 2,
   "metadata": {},
   "outputs": [
    {
     "name": "stdout",
     "output_type": "stream",
     "text": [
      "Index(['Date', 'Product', 'Planned start Time', 'Actual Start Time',\n",
      "       'Stop Time', 'Total time', 'Startup Delay', 'BreakDowns',\n",
      "       'Eff Prod time', 'Operating Speed', 'Produced Qty', 'Rejects Qty',\n",
      "       'Mix Usage', 'Mix Wastage', 'Mix yield', 'AR', 'PR', 'QR', 'OEE',\n",
      "       'Mix Per Stick', 'Efficiency', 'Planned Qty'],\n",
      "      dtype='object')\n"
     ]
    },
    {
     "data": {
      "text/html": [
       "<div>\n",
       "<style scoped>\n",
       "    .dataframe tbody tr th:only-of-type {\n",
       "        vertical-align: middle;\n",
       "    }\n",
       "\n",
       "    .dataframe tbody tr th {\n",
       "        vertical-align: top;\n",
       "    }\n",
       "\n",
       "    .dataframe thead th {\n",
       "        text-align: right;\n",
       "    }\n",
       "</style>\n",
       "<table border=\"1\" class=\"dataframe\">\n",
       "  <thead>\n",
       "    <tr style=\"text-align: right;\">\n",
       "      <th></th>\n",
       "      <th>Date</th>\n",
       "      <th>Product</th>\n",
       "      <th>Planned start Time</th>\n",
       "      <th>Actual Start Time</th>\n",
       "      <th>Stop Time</th>\n",
       "      <th>Total time</th>\n",
       "      <th>Startup Delay</th>\n",
       "      <th>BreakDowns</th>\n",
       "      <th>Eff Prod time</th>\n",
       "      <th>Operating Speed</th>\n",
       "      <th>...</th>\n",
       "      <th>Mix Usage</th>\n",
       "      <th>Mix Wastage</th>\n",
       "      <th>Mix yield</th>\n",
       "      <th>AR</th>\n",
       "      <th>PR</th>\n",
       "      <th>QR</th>\n",
       "      <th>OEE</th>\n",
       "      <th>Mix Per Stick</th>\n",
       "      <th>Efficiency</th>\n",
       "      <th>Planned Qty</th>\n",
       "    </tr>\n",
       "  </thead>\n",
       "  <tbody>\n",
       "    <tr>\n",
       "      <th>0</th>\n",
       "      <td>2018-07-02</td>\n",
       "      <td>WB Chocolate</td>\n",
       "      <td>06:30:00</td>\n",
       "      <td>10:30:00</td>\n",
       "      <td>20:30:00</td>\n",
       "      <td>14.0</td>\n",
       "      <td>4.0</td>\n",
       "      <td>5.15</td>\n",
       "      <td>4.85</td>\n",
       "      <td>28880</td>\n",
       "      <td>...</td>\n",
       "      <td>7840.0</td>\n",
       "      <td>991.000</td>\n",
       "      <td>0.873597</td>\n",
       "      <td>0.346429</td>\n",
       "      <td>1.496754</td>\n",
       "      <td>0.873597</td>\n",
       "      <td>0.452976</td>\n",
       "      <td>0.0375</td>\n",
       "      <td>0.499675</td>\n",
       "      <td>NaN</td>\n",
       "    </tr>\n",
       "    <tr>\n",
       "      <th>1</th>\n",
       "      <td>2018-07-04</td>\n",
       "      <td>WB Vanilla</td>\n",
       "      <td>06:00:00</td>\n",
       "      <td>18:30:00</td>\n",
       "      <td>20:00:00</td>\n",
       "      <td>14.0</td>\n",
       "      <td>12.5</td>\n",
       "      <td>0.00</td>\n",
       "      <td>1.50</td>\n",
       "      <td>28880</td>\n",
       "      <td>...</td>\n",
       "      <td>1160.0</td>\n",
       "      <td>40.625</td>\n",
       "      <td>0.964978</td>\n",
       "      <td>0.107143</td>\n",
       "      <td>0.716049</td>\n",
       "      <td>0.964978</td>\n",
       "      <td>0.074033</td>\n",
       "      <td>0.0375</td>\n",
       "      <td>0.098710</td>\n",
       "      <td>NaN</td>\n",
       "    </tr>\n",
       "    <tr>\n",
       "      <th>2</th>\n",
       "      <td>2018-07-05</td>\n",
       "      <td>WB Vanilla</td>\n",
       "      <td>06:00:00</td>\n",
       "      <td>09:00:00</td>\n",
       "      <td>18:00:00</td>\n",
       "      <td>12.0</td>\n",
       "      <td>3.0</td>\n",
       "      <td>3.90</td>\n",
       "      <td>5.10</td>\n",
       "      <td>28880</td>\n",
       "      <td>...</td>\n",
       "      <td>7840.0</td>\n",
       "      <td>812.125</td>\n",
       "      <td>0.896413</td>\n",
       "      <td>0.425000</td>\n",
       "      <td>1.423384</td>\n",
       "      <td>0.896413</td>\n",
       "      <td>0.542274</td>\n",
       "      <td>0.0375</td>\n",
       "      <td>0.595438</td>\n",
       "      <td>NaN</td>\n",
       "    </tr>\n",
       "    <tr>\n",
       "      <th>3</th>\n",
       "      <td>2018-07-06</td>\n",
       "      <td>JJ Necto</td>\n",
       "      <td>06:00:00</td>\n",
       "      <td>09:00:00</td>\n",
       "      <td>21:00:00</td>\n",
       "      <td>15.0</td>\n",
       "      <td>3.0</td>\n",
       "      <td>5.18</td>\n",
       "      <td>6.82</td>\n",
       "      <td>28880</td>\n",
       "      <td>...</td>\n",
       "      <td>16000.0</td>\n",
       "      <td>2413.600</td>\n",
       "      <td>0.849150</td>\n",
       "      <td>0.454667</td>\n",
       "      <td>1.357663</td>\n",
       "      <td>0.849150</td>\n",
       "      <td>0.524167</td>\n",
       "      <td>0.0600</td>\n",
       "      <td>0.562595</td>\n",
       "      <td>NaN</td>\n",
       "    </tr>\n",
       "    <tr>\n",
       "      <th>4</th>\n",
       "      <td>2018-07-07</td>\n",
       "      <td>WB Vanilla</td>\n",
       "      <td>06:00:00</td>\n",
       "      <td>10:30:00</td>\n",
       "      <td>18:00:00</td>\n",
       "      <td>12.0</td>\n",
       "      <td>4.5</td>\n",
       "      <td>5.10</td>\n",
       "      <td>2.40</td>\n",
       "      <td>28880</td>\n",
       "      <td>...</td>\n",
       "      <td>7000.0</td>\n",
       "      <td>508.750</td>\n",
       "      <td>0.927321</td>\n",
       "      <td>0.200000</td>\n",
       "      <td>2.700617</td>\n",
       "      <td>0.927321</td>\n",
       "      <td>0.500868</td>\n",
       "      <td>0.0375</td>\n",
       "      <td>0.605216</td>\n",
       "      <td>NaN</td>\n",
       "    </tr>\n",
       "  </tbody>\n",
       "</table>\n",
       "<p>5 rows × 22 columns</p>\n",
       "</div>"
      ],
      "text/plain": [
       "        Date       Product Planned start Time Actual Start Time Stop Time  \\\n",
       "0 2018-07-02  WB Chocolate           06:30:00          10:30:00  20:30:00   \n",
       "1 2018-07-04    WB Vanilla           06:00:00          18:30:00  20:00:00   \n",
       "2 2018-07-05    WB Vanilla           06:00:00          09:00:00  18:00:00   \n",
       "3 2018-07-06      JJ Necto           06:00:00          09:00:00  21:00:00   \n",
       "4 2018-07-07    WB Vanilla           06:00:00          10:30:00  18:00:00   \n",
       "\n",
       "   Total time  Startup Delay  BreakDowns  Eff Prod time  Operating Speed  ...  \\\n",
       "0        14.0            4.0        5.15           4.85            28880  ...   \n",
       "1        14.0           12.5        0.00           1.50            28880  ...   \n",
       "2        12.0            3.0        3.90           5.10            28880  ...   \n",
       "3        15.0            3.0        5.18           6.82            28880  ...   \n",
       "4        12.0            4.5        5.10           2.40            28880  ...   \n",
       "\n",
       "   Mix Usage  Mix Wastage  Mix yield        AR        PR        QR       OEE  \\\n",
       "0     7840.0      991.000   0.873597  0.346429  1.496754  0.873597  0.452976   \n",
       "1     1160.0       40.625   0.964978  0.107143  0.716049  0.964978  0.074033   \n",
       "2     7840.0      812.125   0.896413  0.425000  1.423384  0.896413  0.542274   \n",
       "3    16000.0     2413.600   0.849150  0.454667  1.357663  0.849150  0.524167   \n",
       "4     7000.0      508.750   0.927321  0.200000  2.700617  0.927321  0.500868   \n",
       "\n",
       "   Mix Per Stick  Efficiency  Planned Qty  \n",
       "0         0.0375    0.499675          NaN  \n",
       "1         0.0375    0.098710          NaN  \n",
       "2         0.0375    0.595438          NaN  \n",
       "3         0.0600    0.562595          NaN  \n",
       "4         0.0375    0.605216          NaN  \n",
       "\n",
       "[5 rows x 22 columns]"
      ]
     },
     "execution_count": 2,
     "metadata": {},
     "output_type": "execute_result"
    }
   ],
   "source": [
    "df = pd.read_excel('../data/Production Data Versaline.xlsx')\n",
    "df = df.rename(columns={\"Breakdowns and other delays\": \"BreakDowns\", \"Effective production time\": \"Eff Prod time\"})\n",
    "print(df.columns)\n",
    "df.head()"
   ]
  },
  {
   "cell_type": "markdown",
   "metadata": {},
   "source": [
    "### Calculate Rejects percentage and add as a colomn\n",
    "\n",
    "Rejects percentage = Rejects Qty / (Total Qty + Rejects Qty)"
   ]
  },
  {
   "cell_type": "code",
   "execution_count": 3,
   "metadata": {},
   "outputs": [],
   "source": [
    "# Add rejects percentage\n",
    "def get_rejects_percentage(row):\n",
    "    return row[\"Rejects Qty\"]/(row[\"Produced Qty\"]+row[\"Rejects Qty\"])\n",
    "\n",
    "df['Rejects Pct'] = df.apply (lambda row: get_rejects_percentage(row), axis=1)"
   ]
  },
  {
   "cell_type": "markdown",
   "metadata": {},
   "source": [
    "### Fill the NAN values with the mean of the colomn"
   ]
  },
  {
   "cell_type": "code",
   "execution_count": 4,
   "metadata": {},
   "outputs": [
    {
     "name": "stdout",
     "output_type": "stream",
     "text": [
      "<class 'pandas.core.frame.DataFrame'>\n",
      "RangeIndex: 441 entries, 0 to 440\n",
      "Data columns (total 23 columns):\n",
      " #   Column              Non-Null Count  Dtype         \n",
      "---  ------              --------------  -----         \n",
      " 0   Date                441 non-null    datetime64[ns]\n",
      " 1   Product             441 non-null    object        \n",
      " 2   Planned start Time  441 non-null    object        \n",
      " 3   Actual Start Time   441 non-null    object        \n",
      " 4   Stop Time           441 non-null    object        \n",
      " 5   Total time          441 non-null    float64       \n",
      " 6   Startup Delay       441 non-null    float64       \n",
      " 7   BreakDowns          441 non-null    float64       \n",
      " 8   Eff Prod time       441 non-null    float64       \n",
      " 9   Operating Speed     441 non-null    int64         \n",
      " 10  Produced Qty        441 non-null    int64         \n",
      " 11  Rejects Qty         440 non-null    float64       \n",
      " 12  Mix Usage           441 non-null    float64       \n",
      " 13  Mix Wastage         441 non-null    float64       \n",
      " 14  Mix yield           439 non-null    float64       \n",
      " 15  AR                  441 non-null    float64       \n",
      " 16  PR                  441 non-null    float64       \n",
      " 17  QR                  441 non-null    float64       \n",
      " 18  OEE                 441 non-null    float64       \n",
      " 19  Mix Per Stick       441 non-null    float64       \n",
      " 20  Efficiency          441 non-null    float64       \n",
      " 21  Planned Qty         73 non-null     float64       \n",
      " 22  Rejects Pct         441 non-null    float64       \n",
      "dtypes: datetime64[ns](1), float64(16), int64(2), object(4)\n",
      "memory usage: 79.4+ KB\n"
     ]
    }
   ],
   "source": [
    "for val in [\"Rejects Pct\"]:#[\"Rejects Pct\", \"Mix yield\"]\n",
    "    df[val] = df[val].fillna(df[val].mean())\n",
    "    \n",
    "df.info()"
   ]
  },
  {
   "cell_type": "markdown",
   "metadata": {},
   "source": [
    "### Select only the useful features\n",
    "remove duplicate features such as start time and end time"
   ]
  },
  {
   "cell_type": "code",
   "execution_count": 5,
   "metadata": {},
   "outputs": [
    {
     "data": {
      "text/html": [
       "<div>\n",
       "<style scoped>\n",
       "    .dataframe tbody tr th:only-of-type {\n",
       "        vertical-align: middle;\n",
       "    }\n",
       "\n",
       "    .dataframe tbody tr th {\n",
       "        vertical-align: top;\n",
       "    }\n",
       "\n",
       "    .dataframe thead th {\n",
       "        text-align: right;\n",
       "    }\n",
       "</style>\n",
       "<table border=\"1\" class=\"dataframe\">\n",
       "  <thead>\n",
       "    <tr style=\"text-align: right;\">\n",
       "      <th></th>\n",
       "      <th>Product</th>\n",
       "      <th>Produced Qty</th>\n",
       "      <th>BreakDowns</th>\n",
       "      <th>Startup Delay</th>\n",
       "      <th>Total time</th>\n",
       "      <th>Rejects Pct</th>\n",
       "      <th>OEE</th>\n",
       "    </tr>\n",
       "  </thead>\n",
       "  <tbody>\n",
       "    <tr>\n",
       "      <th>0</th>\n",
       "      <td>WB Chocolate</td>\n",
       "      <td>182640</td>\n",
       "      <td>5.15</td>\n",
       "      <td>4.0</td>\n",
       "      <td>14.0</td>\n",
       "      <td>0.126403</td>\n",
       "      <td>0.452976</td>\n",
       "    </tr>\n",
       "    <tr>\n",
       "      <th>1</th>\n",
       "      <td>WB Vanilla</td>\n",
       "      <td>29850</td>\n",
       "      <td>0.00</td>\n",
       "      <td>12.5</td>\n",
       "      <td>14.0</td>\n",
       "      <td>0.035022</td>\n",
       "      <td>0.074033</td>\n",
       "    </tr>\n",
       "  </tbody>\n",
       "</table>\n",
       "</div>"
      ],
      "text/plain": [
       "        Product  Produced Qty  BreakDowns  Startup Delay  Total time  \\\n",
       "0  WB Chocolate        182640        5.15            4.0        14.0   \n",
       "1    WB Vanilla         29850        0.00           12.5        14.0   \n",
       "\n",
       "   Rejects Pct       OEE  \n",
       "0     0.126403  0.452976  \n",
       "1     0.035022  0.074033  "
      ]
     },
     "execution_count": 5,
     "metadata": {},
     "output_type": "execute_result"
    }
   ],
   "source": [
    "useful_colomns = [\"Product\", \"Produced Qty\", \"BreakDowns\", \"Startup Delay\", \"Total time\", \"Rejects Pct\", \"OEE\"]\n",
    "df = df[useful_colomns]\n",
    "df.head(2)"
   ]
  },
  {
   "cell_type": "code",
   "execution_count": 6,
   "metadata": {},
   "outputs": [
    {
     "data": {
      "text/plain": [
       "array(['WB Chocolate', 'WB Vanilla', 'JJ Necto', 'MM Watermelon',\n",
       "       'MM Orange', 'WB Chock Shock', 'WB Berry', '2-Bar Vanilla Faluda',\n",
       "       'JJ Cream Soda', 'JJ Orange Crush ', 'Ice Cake', 'Bubble Gumy',\n",
       "       'JJ Creamsoda', 'WB Vnilla', 'Bubble Gummy', 'Ice cake',\n",
       "       'WB Chocok Shock', 'JJ Orange Crush'], dtype=object)"
      ]
     },
     "execution_count": 6,
     "metadata": {},
     "output_type": "execute_result"
    }
   ],
   "source": [
    "df.Product.unique()"
   ]
  },
  {
   "cell_type": "markdown",
   "metadata": {},
   "source": [
    "### Rename Duplicates products with the correct name"
   ]
  },
  {
   "cell_type": "code",
   "execution_count": 7,
   "metadata": {},
   "outputs": [
    {
     "name": "stdout",
     "output_type": "stream",
     "text": [
      "WB Chocolate    = 62\n",
      "WB Vanilla      = 74\n",
      "JJ Necto        = 45\n",
      "MM Watermelon   = 51\n",
      "MM Orange       = 65\n",
      "WB Chock Shock  = 30\n",
      "WB Berry        = 16\n",
      "2-Bar Vanilla Faluda = 65\n",
      "JJ Cream Soda   = 15\n",
      "JJ Orange Crush = 8\n",
      "Ice Cake        = 5\n",
      "Bubble Gummy    = 5\n"
     ]
    }
   ],
   "source": [
    "df = df.replace({'Product': {\"JJ Orange Crush \": \"JJ Orange Crush\", \n",
    "                             \"WB Chocok Shock\": \"WB Chock Shock\",\n",
    "                            \"Ice cake\": \"Ice Cake\",\n",
    "                            \"Bubble Gumy\":\"Bubble Gummy\", \n",
    "                            \"WB Vnilla\": \"WB Vanilla\",\n",
    "                            \"JJ Creamsoda\": \"JJ Cream Soda\"}})\n",
    "for product in df.Product.unique():\n",
    "    print(\"{:15} = {}\".format(product, df[df[\"Product\"] == product][\"Product\"].count()))"
   ]
  },
  {
   "cell_type": "code",
   "execution_count": 8,
   "metadata": {},
   "outputs": [
    {
     "name": "stdout",
     "output_type": "stream",
     "text": [
      "Number of rows: 441\n",
      "<class 'pandas.core.frame.DataFrame'>\n",
      "RangeIndex: 441 entries, 0 to 440\n",
      "Data columns (total 7 columns):\n",
      " #   Column         Non-Null Count  Dtype  \n",
      "---  ------         --------------  -----  \n",
      " 0   Product        441 non-null    object \n",
      " 1   Produced Qty   441 non-null    int64  \n",
      " 2   BreakDowns     441 non-null    float64\n",
      " 3   Startup Delay  441 non-null    float64\n",
      " 4   Total time     441 non-null    float64\n",
      " 5   Rejects Pct    441 non-null    float64\n",
      " 6   OEE            441 non-null    float64\n",
      "dtypes: float64(5), int64(1), object(1)\n",
      "memory usage: 24.2+ KB\n"
     ]
    }
   ],
   "source": [
    "print(\"Number of rows: {}\".format(df.Product.count()))\n",
    "df.info()"
   ]
  },
  {
   "cell_type": "code",
   "execution_count": 9,
   "metadata": {},
   "outputs": [],
   "source": [
    "# group_by_products = df.groupby(by=['Product'])\n",
    "# product_data_avg = group_by_products.mean()\n",
    "# product_data_count = group_by_products.count()\n",
    "# print(product_data_avg)\n",
    "# print(product_data_count)"
   ]
  },
  {
   "cell_type": "code",
   "execution_count": 10,
   "metadata": {},
   "outputs": [
    {
     "name": "stdout",
     "output_type": "stream",
     "text": [
      "Product              = 12\n",
      "Produced Qty         = 433\n",
      "BreakDowns           = 261\n",
      "Startup Delay        = 130\n",
      "Total time           = 208\n",
      "Rejects Pct          = 301\n",
      "OEE                  = 439\n"
     ]
    }
   ],
   "source": [
    "for col in df.columns.values:\n",
    "    print(\"{:20} = {}\".format(col, df[col].nunique()))"
   ]
  },
  {
   "cell_type": "markdown",
   "metadata": {},
   "source": [
    "## Here we test different regression methods"
   ]
  },
  {
   "cell_type": "code",
   "execution_count": 11,
   "metadata": {},
   "outputs": [],
   "source": [
    "def test_results(model, features, actual):\n",
    "    y_pred = model.predict([features])\n",
    "    print(\"Result: {}\\nActual: {}\".format(y_pred[0], actual))\n",
    "    print(\"Error:{}\\nSqured Error:{}\".format(y_pred[0]-actual, (y_pred[0]-actual)**2))"
   ]
  },
  {
   "cell_type": "markdown",
   "metadata": {},
   "source": [
    "### Data Preperation"
   ]
  },
  {
   "cell_type": "markdown",
   "metadata": {},
   "source": [
    "#### Onehot encoding"
   ]
  },
  {
   "cell_type": "code",
   "execution_count": 12,
   "metadata": {},
   "outputs": [],
   "source": [
    "# Products as a input\n",
    "df['Product'] = pd.Categorical(df['Product'])\n",
    "dfDummies = pd.get_dummies(df['Product'], prefix = 'prod')\n",
    "# dfDummies.info()\n",
    "df_p = pd.concat([df, dfDummies], axis=1)\n",
    "# df_p.info()"
   ]
  },
  {
   "cell_type": "code",
   "execution_count": 13,
   "metadata": {},
   "outputs": [],
   "source": [
    "# Select only one product\n",
    "# df_p = df[df['Product']==\"WB Chocolate\"]\n",
    "# df_p = df[df['Product']==\"MM Orange\"]"
   ]
  },
  {
   "cell_type": "code",
   "execution_count": 14,
   "metadata": {},
   "outputs": [
    {
     "data": {
      "text/html": [
       "<div>\n",
       "<style scoped>\n",
       "    .dataframe tbody tr th:only-of-type {\n",
       "        vertical-align: middle;\n",
       "    }\n",
       "\n",
       "    .dataframe tbody tr th {\n",
       "        vertical-align: top;\n",
       "    }\n",
       "\n",
       "    .dataframe thead th {\n",
       "        text-align: right;\n",
       "    }\n",
       "</style>\n",
       "<table border=\"1\" class=\"dataframe\">\n",
       "  <thead>\n",
       "    <tr style=\"text-align: right;\">\n",
       "      <th></th>\n",
       "      <th>Produced Qty</th>\n",
       "      <th>BreakDowns</th>\n",
       "      <th>Startup Delay</th>\n",
       "      <th>Total time</th>\n",
       "      <th>Rejects Pct</th>\n",
       "      <th>prod_2-Bar Vanilla Faluda</th>\n",
       "      <th>prod_Bubble Gummy</th>\n",
       "      <th>prod_Ice Cake</th>\n",
       "      <th>prod_JJ Cream Soda</th>\n",
       "      <th>prod_JJ Necto</th>\n",
       "      <th>prod_JJ Orange Crush</th>\n",
       "      <th>prod_MM Orange</th>\n",
       "      <th>prod_MM Watermelon</th>\n",
       "      <th>prod_WB Berry</th>\n",
       "      <th>prod_WB Chock Shock</th>\n",
       "      <th>prod_WB Chocolate</th>\n",
       "      <th>prod_WB Vanilla</th>\n",
       "    </tr>\n",
       "  </thead>\n",
       "  <tbody>\n",
       "    <tr>\n",
       "      <th>361</th>\n",
       "      <td>1.574481</td>\n",
       "      <td>1.237761</td>\n",
       "      <td>1.205744</td>\n",
       "      <td>2.137366</td>\n",
       "      <td>-0.641294</td>\n",
       "      <td>1</td>\n",
       "      <td>0</td>\n",
       "      <td>0</td>\n",
       "      <td>0</td>\n",
       "      <td>0</td>\n",
       "      <td>0</td>\n",
       "      <td>0</td>\n",
       "      <td>0</td>\n",
       "      <td>0</td>\n",
       "      <td>0</td>\n",
       "      <td>0</td>\n",
       "      <td>0</td>\n",
       "    </tr>\n",
       "    <tr>\n",
       "      <th>249</th>\n",
       "      <td>-1.034454</td>\n",
       "      <td>-0.818599</td>\n",
       "      <td>0.391848</td>\n",
       "      <td>-1.029216</td>\n",
       "      <td>-0.641294</td>\n",
       "      <td>1</td>\n",
       "      <td>0</td>\n",
       "      <td>0</td>\n",
       "      <td>0</td>\n",
       "      <td>0</td>\n",
       "      <td>0</td>\n",
       "      <td>0</td>\n",
       "      <td>0</td>\n",
       "      <td>0</td>\n",
       "      <td>0</td>\n",
       "      <td>0</td>\n",
       "      <td>0</td>\n",
       "    </tr>\n",
       "    <tr>\n",
       "      <th>271</th>\n",
       "      <td>-0.886922</td>\n",
       "      <td>-0.727756</td>\n",
       "      <td>2.368452</td>\n",
       "      <td>-0.181025</td>\n",
       "      <td>2.778066</td>\n",
       "      <td>0</td>\n",
       "      <td>0</td>\n",
       "      <td>0</td>\n",
       "      <td>0</td>\n",
       "      <td>0</td>\n",
       "      <td>0</td>\n",
       "      <td>0</td>\n",
       "      <td>0</td>\n",
       "      <td>0</td>\n",
       "      <td>1</td>\n",
       "      <td>0</td>\n",
       "      <td>0</td>\n",
       "    </tr>\n",
       "    <tr>\n",
       "      <th>434</th>\n",
       "      <td>0.659353</td>\n",
       "      <td>2.385689</td>\n",
       "      <td>0.895688</td>\n",
       "      <td>1.359857</td>\n",
       "      <td>0.071918</td>\n",
       "      <td>0</td>\n",
       "      <td>0</td>\n",
       "      <td>0</td>\n",
       "      <td>0</td>\n",
       "      <td>0</td>\n",
       "      <td>0</td>\n",
       "      <td>0</td>\n",
       "      <td>0</td>\n",
       "      <td>0</td>\n",
       "      <td>1</td>\n",
       "      <td>0</td>\n",
       "      <td>0</td>\n",
       "    </tr>\n",
       "    <tr>\n",
       "      <th>397</th>\n",
       "      <td>-1.062622</td>\n",
       "      <td>-0.958993</td>\n",
       "      <td>-0.809618</td>\n",
       "      <td>-1.758661</td>\n",
       "      <td>-0.641294</td>\n",
       "      <td>0</td>\n",
       "      <td>0</td>\n",
       "      <td>0</td>\n",
       "      <td>0</td>\n",
       "      <td>0</td>\n",
       "      <td>0</td>\n",
       "      <td>0</td>\n",
       "      <td>0</td>\n",
       "      <td>0</td>\n",
       "      <td>0</td>\n",
       "      <td>0</td>\n",
       "      <td>1</td>\n",
       "    </tr>\n",
       "  </tbody>\n",
       "</table>\n",
       "</div>"
      ],
      "text/plain": [
       "     Produced Qty  BreakDowns  Startup Delay  Total time  Rejects Pct  \\\n",
       "361      1.574481    1.237761       1.205744    2.137366    -0.641294   \n",
       "249     -1.034454   -0.818599       0.391848   -1.029216    -0.641294   \n",
       "271     -0.886922   -0.727756       2.368452   -0.181025     2.778066   \n",
       "434      0.659353    2.385689       0.895688    1.359857     0.071918   \n",
       "397     -1.062622   -0.958993      -0.809618   -1.758661    -0.641294   \n",
       "\n",
       "     prod_2-Bar Vanilla Faluda  prod_Bubble Gummy  prod_Ice Cake  \\\n",
       "361                          1                  0              0   \n",
       "249                          1                  0              0   \n",
       "271                          0                  0              0   \n",
       "434                          0                  0              0   \n",
       "397                          0                  0              0   \n",
       "\n",
       "     prod_JJ Cream Soda  prod_JJ Necto  prod_JJ Orange Crush  prod_MM Orange  \\\n",
       "361                   0              0                     0               0   \n",
       "249                   0              0                     0               0   \n",
       "271                   0              0                     0               0   \n",
       "434                   0              0                     0               0   \n",
       "397                   0              0                     0               0   \n",
       "\n",
       "     prod_MM Watermelon  prod_WB Berry  prod_WB Chock Shock  \\\n",
       "361                   0              0                    0   \n",
       "249                   0              0                    0   \n",
       "271                   0              0                    1   \n",
       "434                   0              0                    1   \n",
       "397                   0              0                    0   \n",
       "\n",
       "     prod_WB Chocolate  prod_WB Vanilla  \n",
       "361                  0                0  \n",
       "249                  0                0  \n",
       "271                  0                0  \n",
       "434                  0                0  \n",
       "397                  0                1  "
      ]
     },
     "execution_count": 14,
     "metadata": {},
     "output_type": "execute_result"
    }
   ],
   "source": [
    "# Scale the data\n",
    "y = df_p[\"OEE\"]\n",
    "X = df_p.drop(['Product', 'OEE'], axis = 1) \n",
    "\n",
    "X_train, X_test, y_train, y_test = train_test_split(X, y, test_size=0.3, random_state=0)\n",
    "\n",
    "def scale(dataframe, scaler=None):\n",
    "    colomns_to_scale = [\"Produced Qty\", \"BreakDowns\", \"Startup Delay\", \"Total time\", \"Rejects Pct\"]\n",
    "    # Only scale relevenat features\n",
    "    scaled_features = dataframe.copy()\n",
    "    features = scaled_features[colomns_to_scale]\n",
    "    if scaler is None:\n",
    "        scaler = StandardScaler().fit(features.values)\n",
    "    features = scaler.transform(features.values)\n",
    "    scaled_features[colomns_to_scale] = features\n",
    "    return scaled_features, scaler\n",
    "\n",
    "X_train_s, scaler = scale(X_train)\n",
    "X_test_s, _ = scale(X_test, scaler)\n",
    "# X_train_s.head()\n",
    "X_test_s.head()"
   ]
  },
  {
   "cell_type": "markdown",
   "metadata": {},
   "source": [
    "### Linear Regression"
   ]
  },
  {
   "cell_type": "code",
   "execution_count": 15,
   "metadata": {},
   "outputs": [
    {
     "name": "stdout",
     "output_type": "stream",
     "text": [
      "Accuracy: 0.8448161466480698\n"
     ]
    }
   ],
   "source": [
    "regr = LinearRegression() \n",
    "regr.fit(X_train, y_train) \n",
    "y_pred = regr.predict(X_test)\n",
    "print(\"Accuracy:\", r2_score(y_test, y_pred))"
   ]
  },
  {
   "cell_type": "markdown",
   "metadata": {},
   "source": [
    "### Decision Tree "
   ]
  },
  {
   "cell_type": "code",
   "execution_count": 16,
   "metadata": {},
   "outputs": [],
   "source": [
    "# y = df_p[\"OEE\"]\n",
    "# X = df_p.drop(['Product', 'OEE'], axis = 1) \n",
    "\n",
    "# X_train, X_test, y_train, y_test = train_test_split(X, y, test_size=0.3, random_state=0)"
   ]
  },
  {
   "cell_type": "code",
   "execution_count": 17,
   "metadata": {},
   "outputs": [
    {
     "name": "stdout",
     "output_type": "stream",
     "text": [
      "{'criterion': ['mse', 'friedman_mse', 'mae'],\n",
      " 'max_depth': [10, 20, 30, 40, 50, 60, 70, 80, 90, 100, 110, None],\n",
      " 'max_features': ['auto', 'log2', 'sqrt', None],\n",
      " 'min_samples_leaf': [1, 2, 4],\n",
      " 'min_samples_split': [2, 5, 10],\n",
      " 'splitter': ['best', 'random']}\n",
      "dict_keys(['ccp_alpha', 'criterion', 'max_depth', 'max_features', 'max_leaf_nodes', 'min_impurity_decrease', 'min_impurity_split', 'min_samples_leaf', 'min_samples_split', 'min_weight_fraction_leaf', 'presort', 'random_state', 'splitter'])\n",
      "Fitting 3 folds for each of 100 candidates, totalling 300 fits\n"
     ]
    },
    {
     "name": "stderr",
     "output_type": "stream",
     "text": [
      "[Parallel(n_jobs=-1)]: Using backend LokyBackend with 8 concurrent workers.\n",
      "[Parallel(n_jobs=-1)]: Done  25 tasks      | elapsed:    0.9s\n"
     ]
    },
    {
     "name": "stdout",
     "output_type": "stream",
     "text": [
      "{'splitter': 'best', 'min_samples_split': 5, 'min_samples_leaf': 2, 'max_features': 'auto', 'max_depth': 10, 'criterion': 'mae'}\n"
     ]
    },
    {
     "name": "stderr",
     "output_type": "stream",
     "text": [
      "[Parallel(n_jobs=-1)]: Done 300 out of 300 | elapsed:    1.2s finished\n"
     ]
    }
   ],
   "source": [
    "# Hyper parameter Tuning for Decision Trees\n",
    "# Number of features to consider at every split\n",
    "criterion = [\"mse\", \"friedman_mse\", \"mae\"]\n",
    "splitter = [\"best\", \"random\"]\n",
    "max_features = ['auto', 'log2', 'sqrt']\n",
    "max_features.append(None)\n",
    "# Maximum number of levels in tree\n",
    "max_depth = [int(x) for x in np.linspace(10, 110, num=11)]\n",
    "max_depth.append(None)\n",
    "# Minimum number of samples required to split a node\n",
    "min_samples_split = [2, 5, 10]\n",
    "# Minimum number of samples required at each leaf node\n",
    "min_samples_leaf = [1, 2, 4]\n",
    "# Method of selecting samples for training each tree\n",
    "bootstrap = [True, False]  # Create the random grid\n",
    "random_grid = {'criterion': criterion,\n",
    "               'splitter': splitter,\n",
    "                'max_features': max_features,\n",
    "               'max_depth': max_depth,\n",
    "               'min_samples_split': min_samples_split,\n",
    "               'min_samples_leaf': min_samples_leaf}\n",
    "pprint(random_grid)\n",
    "\n",
    "# Use the random grid to search for best hyperparameters\n",
    "# First create the base model to tune\n",
    "rf = DecisionTreeRegressor()\n",
    "print(rf.get_params().keys())\n",
    "# Random search of parameters, using 3 fold cross validation,\n",
    "# search across 100 different combinations, and use all available cores\n",
    "rf_random = RandomizedSearchCV(estimator=rf, param_distributions=random_grid, n_iter=100, cv=3, verbose=2,\n",
    "                               random_state=42, n_jobs=-1)  # Fit the random search model\n",
    "rf_random.fit(X_train, y_train)\n",
    "print(rf_random.best_params_)"
   ]
  },
  {
   "cell_type": "code",
   "execution_count": 18,
   "metadata": {},
   "outputs": [
    {
     "name": "stdout",
     "output_type": "stream",
     "text": [
      "DecisionTreeRegressor(ccp_alpha=0.0, criterion='mae', max_depth=50,\n",
      "                      max_features=None, max_leaf_nodes=None,\n",
      "                      min_impurity_decrease=0.0, min_impurity_split=None,\n",
      "                      min_samples_leaf=2, min_samples_split=5,\n",
      "                      min_weight_fraction_leaf=0.0, presort='deprecated',\n",
      "                      random_state=0, splitter='best')\n",
      "Accuracy: 0.8343317707950609\n"
     ]
    }
   ],
   "source": [
    "regressor = DecisionTreeRegressor(splitter=\"best\", criterion=\"mae\", random_state=0, min_samples_split=5, \n",
    "                                  min_samples_leaf=2, max_features=None, max_depth=50)\n",
    "# regressor = DecisionTreeRegressor(random_state=0)\n",
    "print(regressor.fit(X_train,y_train))\n",
    "\n",
    "y_pred = regressor.predict(X_test)\n",
    "print(\"Accuracy:\", r2_score(y_test, y_pred))"
   ]
  },
  {
   "cell_type": "code",
   "execution_count": 19,
   "metadata": {},
   "outputs": [
    {
     "name": "stdout",
     "output_type": "stream",
     "text": [
      "Result: 0.325280898876404\n",
      "Actual: 0.355357142857143\n",
      "Error:-0.030076243980738993\n",
      "Squred Error:0.0009045804519889385\n"
     ]
    }
   ],
   "source": [
    "number = 2\n",
    "test_results(regressor, X_test.iloc[number], y_test.iloc[number])\n",
    "# y_pred = regressor.predict([X.loc[number]])\n",
    "# print(\"Features: {}\\nResult: {}\".format(X.loc[number], y_pred))"
   ]
  },
  {
   "cell_type": "markdown",
   "metadata": {},
   "source": [
    "### Plotting the tree"
   ]
  },
  {
   "cell_type": "code",
   "execution_count": 20,
   "metadata": {},
   "outputs": [
    {
     "data": {
      "image/png": "[encoded data removed]",
      "text/plain": [
       "<Figure size 432x288 with 1 Axes>"
      ]
     },
     "metadata": {
      "needs_background": "light"
     },
     "output_type": "display_data"
    }
   ],
   "source": [
    "from sklearn import tree\n",
    "t = tree.plot_tree(regressor)"
   ]
  },
  {
   "cell_type": "code",
   "execution_count": 21,
   "metadata": {},
   "outputs": [
    {
     "name": "stdout",
     "output_type": "stream",
     "text": [
      "['Produced Qty', 'BreakDowns', 'Startup Delay', 'Total time', 'Rejects Pct', 'prod_2-Bar Vanilla Faluda', 'prod_Bubble Gummy', 'prod_Ice Cake', 'prod_JJ Cream Soda', 'prod_JJ Necto', 'prod_JJ Orange Crush', 'prod_MM Orange', 'prod_MM Watermelon', 'prod_WB Berry', 'prod_WB Chock Shock', 'prod_WB Chocolate', 'prod_WB Vanilla']\n"
     ]
    },
    {
     "data": {
      "image/png": "[encoded data removed]",
      "text/plain": [
       "<Figure size 864x864 with 1 Axes>"
      ]
     },
     "metadata": {
      "needs_background": "light"
     },
     "output_type": "display_data"
    }
   ],
   "source": [
    "\n",
    "\n",
    "dot_data = io.StringIO()\n",
    "\n",
    "plot_colomns = list(df_p.columns)\n",
    "plot_colomns.remove('OEE')\n",
    "plot_colomns.remove('Product')\n",
    "print(plot_colomns)\n",
    "export_graphviz(regressor, out_file=dot_data, feature_names=plot_colomns, class_names=[\"OEE\"], rounded=True, filled=True)\n",
    "\n",
    "filename = \"Decision_Tree.png\"\n",
    "pydotplus.graph_from_dot_data(dot_data.getvalue()).write_png(filename)\n",
    "\n",
    "plt.figure(figsize=(12,12))\n",
    "img = mpimg.imread(filename)\n",
    "imgplot = plt.imshow(img)\n",
    "\n",
    "plt.show()"
   ]
  },
  {
   "cell_type": "markdown",
   "metadata": {},
   "source": [
    "### Scaling the data"
   ]
  },
  {
   "cell_type": "markdown",
   "metadata": {},
   "source": [
    "## Support Vector Machine"
   ]
  },
  {
   "cell_type": "code",
   "execution_count": 22,
   "metadata": {},
   "outputs": [
    {
     "name": "stdout",
     "output_type": "stream",
     "text": [
      "Accuracy: 0.804315810116353\n"
     ]
    }
   ],
   "source": [
    "\n",
    "svm_classifier = SVR(kernel='linear')         \n",
    "svm_classifier.fit(X_train_s, y_train)\n",
    "y_pred = svm_classifier.predict(X_test_s)\n",
    "\n",
    "print(\"Accuracy:\", r2_score(y_test, y_pred))"
   ]
  },
  {
   "cell_type": "markdown",
   "metadata": {},
   "source": [
    "### Random Forest"
   ]
  },
  {
   "cell_type": "code",
   "execution_count": null,
   "metadata": {},
   "outputs": [],
   "source": []
  },
  {
   "cell_type": "code",
   "execution_count": 23,
   "metadata": {},
   "outputs": [],
   "source": [
    "# Hyperparameter Tuning using Random Forest\n",
    "\n",
    "def random_forest_hpt():\n",
    "    n_estimators = [int(x) for x in np.linspace(start=100, stop=1000, num=10)]\n",
    "    # Number of features to consider at every split\n",
    "    criterion = [\"mse\", \"mae\"]\n",
    "    max_features = ['auto', 'log2', 'sqrt']\n",
    "    max_features.append(None)\n",
    "    # Maximum number of levels in tree\n",
    "    max_depth = [int(x) for x in np.linspace(10, 110, num=11)]\n",
    "    max_depth.append(None)\n",
    "    # Minimum number of samples required to split a node\n",
    "    min_samples_split = [2, 5, 10]\n",
    "    # Minimum number of samples required at each leaf node\n",
    "    min_samples_leaf = [1, 2, 4]\n",
    "    # Method of selecting samples for training each tree\n",
    "    bootstrap = [True, False]  # Create the random grid\n",
    "    random_grid = {'n_estimators': n_estimators,\n",
    "                    'criterion': criterion,\n",
    "                    'max_features': max_features,\n",
    "                   'max_depth': max_depth,\n",
    "                   'min_samples_split': min_samples_split,\n",
    "                   'min_samples_leaf': min_samples_leaf}\n",
    "    pprint(random_grid)\n",
    "\n",
    "    # Use the random grid to search for best hyperparameters\n",
    "    # First create the base model to tune\n",
    "    rf = RandomForestRegressor()\n",
    "    print(rf.get_params().keys())\n",
    "    # Random search of parameters, using 3 fold cross validation,\n",
    "    # search across 100 different combinations, and use all available cores\n",
    "    rf_random = RandomizedSearchCV(estimator=rf, param_distributions=random_grid, n_iter=100, cv=3, verbose=2,\n",
    "                                   random_state=42, n_jobs=-1)  # Fit the random search model\n",
    "    rf_random.fit(X_train, y_train)\n",
    "    print(rf_random.best_params_)\n",
    "\n",
    "# random_forest_hpt() "
   ]
  },
  {
   "cell_type": "code",
   "execution_count": 24,
   "metadata": {},
   "outputs": [
    {
     "name": "stdout",
     "output_type": "stream",
     "text": [
      "Accuracy: 0.8866850503660298\n"
     ]
    }
   ],
   "source": [
    "# random_forest_regressor = RandomForestRegressor(n_estimators=100, random_state=0)\n",
    "random_forest_regressor = RandomForestRegressor(n_estimators=800, criterion='mae', max_features='auto', max_depth=80, \n",
    "                                                min_samples_split=5, min_samples_leaf=1, random_state=0)\n",
    "\n",
    "random_forest_regressor.fit(X_train_s, y_train)\n",
    "y_pred_t = random_forest_regressor.predict(X_test_s)\n",
    "print(\"Accuracy:\", r2_score(y_test, y_pred_t))"
   ]
  },
  {
   "cell_type": "markdown",
   "metadata": {},
   "source": [
    "### Neural network"
   ]
  },
  {
   "cell_type": "code",
   "execution_count": 25,
   "metadata": {},
   "outputs": [
    {
     "name": "stdout",
     "output_type": "stream",
     "text": [
      "WARNING:tensorflow:From /home/dulanj/Environments/py376/lib/python3.7/site-packages/tensorflow/python/ops/resource_variable_ops.py:435: colocate_with (from tensorflow.python.framework.ops) is deprecated and will be removed in a future version.\n",
      "Instructions for updating:\n",
      "Colocations handled automatically by placer.\n",
      "Input Dimention: 17\n",
      "Model: \"sequential_1\"\n",
      "_________________________________________________________________\n",
      "Layer (type)                 Output Shape              Param #   \n",
      "=================================================================\n",
      "DenseLayer-1 (Dense)         (None, 192)               3456      \n",
      "_________________________________________________________________\n",
      "DenseLayer-2 (Dense)         (None, 64)                12352     \n",
      "_________________________________________________________________\n",
      "DenseLayer-3 (Dense)         (None, 16)                1040      \n",
      "_________________________________________________________________\n",
      "DenseLayer-4 (Dense)         (None, 1)                 17        \n",
      "=================================================================\n",
      "Total params: 16,865\n",
      "Trainable params: 16,865\n",
      "Non-trainable params: 0\n",
      "_________________________________________________________________\n",
      "None\n",
      "WARNING:tensorflow:From /home/dulanj/Environments/py376/lib/python3.7/site-packages/tensorflow/python/ops/math_ops.py:3066: to_int32 (from tensorflow.python.ops.math_ops) is deprecated and will be removed in a future version.\n",
      "Instructions for updating:\n",
      "Use tf.cast instead.\n",
      "Accuracy: 0.9237331254578596\n"
     ]
    },
    {
     "data": {
      "image/png": "[encoded data removed]",
      "text/plain": [
       "<IPython.core.display.Image object>"
      ]
     },
     "execution_count": 25,
     "metadata": {},
     "output_type": "execute_result"
    }
   ],
   "source": [
    "model = Sequential()\n",
    "input_dim = len(X_train_s.columns)\n",
    "model.add(Dense(192, input_dim=input_dim, activation='relu', name=\"DenseLayer-1\"))\n",
    "model.add(Dense(64, activation='relu', name=\"DenseLayer-2\"))\n",
    "model.add(Dense(16, activation='relu', name=\"DenseLayer-3\"))\n",
    "model.add(Dense(1, activation='linear', name=\"DenseLayer-4\"))\n",
    "print(\"Input Dimention: {}\".format(input_dim))\n",
    "print(model.summary())\n",
    "\n",
    "# compile the keras model\n",
    "model.compile(loss='mean_absolute_error', optimizer='adam', metrics=['mean_absolute_error'])\n",
    "\n",
    "model.fit(X_train_s, y_train, epochs=100, batch_size=10, verbose=0, validation_split=0.2)\n",
    "\n",
    "y_pred = model.predict(X_test_s)\n",
    "print(\"Accuracy:\", r2_score(y_test, y_pred))\n",
    "\n",
    "# SAve model as image\n",
    "from keras.utils import plot_model\n",
    "plot_model(model, to_file='model.png',show_shapes=True)"
   ]
  },
  {
   "cell_type": "code",
   "execution_count": 26,
   "metadata": {},
   "outputs": [
    {
     "name": "stdout",
     "output_type": "stream",
     "text": [
      "Result: 0.336980920321386\n",
      "Actual: 0.590192043896313\n",
      "Error:-0.253211123574927\n",
      "Squred Error:0.06411587310207693\n"
     ]
    }
   ],
   "source": [
    "number = 3\n",
    "test_results(regressor, X_test_s.iloc[number], y_test.iloc[number])"
   ]
  },
  {
   "cell_type": "code",
   "execution_count": null,
   "metadata": {},
   "outputs": [],
   "source": []
  }
 ],
 "metadata": {
  "kernelspec": {
   "display_name": "Python 3",
   "language": "python",
   "name": "python3"
  },
  "language_info": {
   "codemirror_mode": {
    "name": "ipython",
    "version": 3
   },
   "file_extension": ".py",
   "mimetype": "text/x-python",
   "name": "python",
   "nbconvert_exporter": "python",
   "pygments_lexer": "ipython3",
   "version": "3.7.6"
  }
 },
 "nbformat": 4,
 "nbformat_minor": 4
}
